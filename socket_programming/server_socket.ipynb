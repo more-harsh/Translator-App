{
 "cells": [
  {
   "cell_type": "markdown",
   "metadata": {},
   "source": [
    "# Implementing Socket programming for establishing connection between Android app and Language Detecting Model"
   ]
  },
  {
   "cell_type": "code",
   "execution_count": null,
   "metadata": {},
   "outputs": [],
   "source": []
  },
  {
   "cell_type": "code",
   "execution_count": null,
   "metadata": {},
   "outputs": [
    {
     "name": "stdout",
     "output_type": "stream",
     "text": [
      "Server started\n",
      "Got connection from ('192.168.181.1', 62643)\n",
      "hello how are you\n",
      "English\n",
      "Got connection from ('192.168.181.1', 65438)\n",
      "hello how are you\n",
      "English\n"
     ]
    }
   ],
   "source": [
    "def lang_detect(text):\n",
    "    import numpy as np\n",
    "    import string\n",
    "    import re\n",
    "    import pickle\n",
    "    translate_table = dict((ord(char), None) for char in string.punctuation)\n",
    "    \n",
    "    global lrLangDetectModel\n",
    "    lrLangDetectFile = open('LRModel_up.pckl', 'rb')\n",
    "    lrLangDetectModel = pickle.load(lrLangDetectFile)\n",
    "    lrLangDetectFile.close()\n",
    "\n",
    "    text = \" \".join(text.split())\n",
    "    text = text.lower()\n",
    "    text = re.sub(r\"\\d+\", \"\", text)\n",
    "    text = text.translate(translate_table)\n",
    "    pred = lrLangDetectModel.predict([text])\n",
    "    prob = lrLangDetectModel.predict_proba([text])\n",
    "    return pred[0]\n",
    "\n",
    "import socket               # Import socket module\n",
    "\n",
    "s = socket.socket()         # Create a socket object\n",
    "host = '192.168.181.1' # Get local machine name\n",
    "port = 9999                # Reserve a port for your service.\n",
    "s.bind((host, port))        # Bind to the port\n",
    "\n",
    "print(\"Server started\")\n",
    "\n",
    "count = 0\n",
    "\n",
    "s.listen(5) # Now wait for client connection.\n",
    "run = True\n",
    "while run:\n",
    "    c, addr = s.accept()     # Establish connection with client.\n",
    "    print('Got connection from', addr)\n",
    "\n",
    "    data = c.recv(1024)\n",
    "\n",
    "    d = data.decode('ASCII')\n",
    "    print(d,end=\"\")\n",
    "\n",
    "    lang = lang_detect(d)\n",
    "    print(lang,end=\"\\n\")   \n",
    "\n",
    "    str = lang.encode() \n",
    "    c.sendall(str)\n",
    "\n",
    "    c.close()\n",
    "    count += 1\n",
    "    if(count==5):\n",
    "        run = False"
   ]
  },
  {
   "cell_type": "code",
   "execution_count": null,
   "metadata": {},
   "outputs": [],
   "source": []
  }
 ],
 "metadata": {
  "kernelspec": {
   "display_name": "Python 3",
   "language": "python",
   "name": "python3"
  },
  "language_info": {
   "codemirror_mode": {
    "name": "ipython",
    "version": 3
   },
   "file_extension": ".py",
   "mimetype": "text/x-python",
   "name": "python",
   "nbconvert_exporter": "python",
   "pygments_lexer": "ipython3",
   "version": "3.7.3"
  }
 },
 "nbformat": 4,
 "nbformat_minor": 2
}
